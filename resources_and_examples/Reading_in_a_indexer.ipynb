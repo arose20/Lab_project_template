{
 "cells": [
  {
   "cell_type": "code",
   "execution_count": 1,
   "id": "mounted-registration",
   "metadata": {},
   "outputs": [],
   "source": [
    "import numpy as np\n",
    "import pandas as pd\n",
    "import pickle as pkl\n",
    "import sklearn\n",
    "from sklearn.linear_model import LogisticRegression\n",
    "\n",
    "# single cell specific\n",
    "import scanpy as sc\n",
    "import scvi\n",
    "\n",
    "import warnings\n",
    "warnings.filterwarnings(\"ignore\")"
   ]
  },
  {
   "cell_type": "code",
   "execution_count": 2,
   "id": "hindu-handy",
   "metadata": {},
   "outputs": [],
   "source": [
    "indexer = pd.read_csv('indexer_example.csv', index_col=0)"
   ]
  },
  {
   "cell_type": "code",
   "execution_count": 3,
   "id": "abandoned-boutique",
   "metadata": {},
   "outputs": [
    {
     "data": {
      "text/html": [
       "<div>\n",
       "<style scoped>\n",
       "    .dataframe tbody tr th:only-of-type {\n",
       "        vertical-align: middle;\n",
       "    }\n",
       "\n",
       "    .dataframe tbody tr th {\n",
       "        vertical-align: top;\n",
       "    }\n",
       "\n",
       "    .dataframe thead th {\n",
       "        text-align: right;\n",
       "    }\n",
       "</style>\n",
       "<table border=\"1\" class=\"dataframe\">\n",
       "  <thead>\n",
       "    <tr style=\"text-align: right;\">\n",
       "      <th></th>\n",
       "      <th>Data_type</th>\n",
       "      <th>Directory</th>\n",
       "      <th>Description</th>\n",
       "    </tr>\n",
       "    <tr>\n",
       "      <th>Name</th>\n",
       "      <th></th>\n",
       "      <th></th>\n",
       "      <th></th>\n",
       "    </tr>\n",
       "  </thead>\n",
       "  <tbody>\n",
       "    <tr>\n",
       "      <th>organ_raw</th>\n",
       "      <td>anndata_object</td>\n",
       "      <td>/dir1/dir2/ABC.h5ad</td>\n",
       "      <td>Raw counts data for project 1</td>\n",
       "    </tr>\n",
       "    <tr>\n",
       "      <th>organ_processed</th>\n",
       "      <td>anndata_object</td>\n",
       "      <td>/dir1/dir3/DEF.h5ad</td>\n",
       "      <td>Processed counts normalised logged low quality...</td>\n",
       "    </tr>\n",
       "    <tr>\n",
       "      <th>metadata_clinical_anndata</th>\n",
       "      <td>csv</td>\n",
       "      <td>/dir1/dir2/clinc_meta.csv</td>\n",
       "      <td>Clincal metadata per cell for project 1 all cells</td>\n",
       "    </tr>\n",
       "    <tr>\n",
       "      <th>organ2_external</th>\n",
       "      <td>rds</td>\n",
       "      <td>/dir5/dir6/public_data.rds</td>\n",
       "      <td>External rds object for organ 2 from collaborator</td>\n",
       "    </tr>\n",
       "    <tr>\n",
       "      <th>scvi_run1</th>\n",
       "      <td>model</td>\n",
       "      <td>/dir1/dir3/scvi_model.sav</td>\n",
       "      <td>SCVI model for organ 1 with parameters x/y/z</td>\n",
       "    </tr>\n",
       "    <tr>\n",
       "      <th>general_model</th>\n",
       "      <td>model</td>\n",
       "      <td>/dir1/dir3/general_model.pkl</td>\n",
       "      <td>Generic model such as a logistic regression model</td>\n",
       "    </tr>\n",
       "  </tbody>\n",
       "</table>\n",
       "</div>"
      ],
      "text/plain": [
       "                                Data_type                     Directory  \\\n",
       "Name                                                                      \n",
       "organ_raw                  anndata_object           /dir1/dir2/ABC.h5ad   \n",
       "organ_processed            anndata_object           /dir1/dir3/DEF.h5ad   \n",
       "metadata_clinical_anndata             csv     /dir1/dir2/clinc_meta.csv   \n",
       "organ2_external                       rds    /dir5/dir6/public_data.rds   \n",
       "scvi_run1                           model     /dir1/dir3/scvi_model.sav   \n",
       "general_model                       model  /dir1/dir3/general_model.pkl   \n",
       "\n",
       "                                                                 Description  \n",
       "Name                                                                          \n",
       "organ_raw                                      Raw counts data for project 1  \n",
       "organ_processed            Processed counts normalised logged low quality...  \n",
       "metadata_clinical_anndata  Clincal metadata per cell for project 1 all cells  \n",
       "organ2_external            External rds object for organ 2 from collaborator  \n",
       "scvi_run1                       SCVI model for organ 1 with parameters x/y/z  \n",
       "general_model              Generic model such as a logistic regression model  "
      ]
     },
     "execution_count": 3,
     "metadata": {},
     "output_type": "execute_result"
    }
   ],
   "source": [
    "indexer"
   ]
  },
  {
   "cell_type": "code",
   "execution_count": 4,
   "id": "formed-found",
   "metadata": {},
   "outputs": [
    {
     "data": {
      "text/plain": [
       "'anndata_object'"
      ]
     },
     "execution_count": 4,
     "metadata": {},
     "output_type": "execute_result"
    }
   ],
   "source": [
    "indexer.loc['organ_raw','Data_type']"
   ]
  },
  {
   "cell_type": "code",
   "execution_count": 5,
   "id": "facial-silver",
   "metadata": {},
   "outputs": [
    {
     "data": {
      "text/plain": [
       "'/dir1/dir2/ABC.h5ad'"
      ]
     },
     "execution_count": 5,
     "metadata": {},
     "output_type": "execute_result"
    }
   ],
   "source": [
    "indexer.loc['organ_raw','Directory']"
   ]
  },
  {
   "cell_type": "code",
   "execution_count": 6,
   "id": "packed-furniture",
   "metadata": {},
   "outputs": [
    {
     "data": {
      "text/plain": [
       "'Raw counts data for project 1'"
      ]
     },
     "execution_count": 6,
     "metadata": {},
     "output_type": "execute_result"
    }
   ],
   "source": [
    "indexer.loc['organ_raw','Description']"
   ]
  },
  {
   "cell_type": "code",
   "execution_count": null,
   "id": "average-syntax",
   "metadata": {},
   "outputs": [],
   "source": [
    "# Read in anndata object\n",
    "adata = sc.read(indexer.loc['organ_raw','Directory'])"
   ]
  },
  {
   "cell_type": "code",
   "execution_count": null,
   "id": "applied-violin",
   "metadata": {},
   "outputs": [],
   "source": [
    "# Read in csv\n",
    "meta = pd.read_csv(indexer.loc['metadata_clinical_anndata','Directory'], index_col=0)"
   ]
  },
  {
   "cell_type": "code",
   "execution_count": null,
   "id": "special-dependence",
   "metadata": {},
   "outputs": [],
   "source": [
    "# Read in scvi model\n",
    "scvi_model = scvi.model.SCVI.load(indexer.loc['scvi_run1','Directory'], adata=adata)"
   ]
  },
  {
   "cell_type": "code",
   "execution_count": null,
   "id": "honest-extra",
   "metadata": {},
   "outputs": [],
   "source": [
    "# Read in general model\n",
    "model = pickle.load(open(indexer.loc['general_model','Directory'], 'rb'))"
   ]
  },
  {
   "cell_type": "code",
   "execution_count": null,
   "id": "western-finance",
   "metadata": {},
   "outputs": [],
   "source": []
  },
  {
   "cell_type": "code",
   "execution_count": null,
   "id": "tropical-companion",
   "metadata": {},
   "outputs": [],
   "source": []
  },
  {
   "cell_type": "code",
   "execution_count": null,
   "id": "portuguese-cameroon",
   "metadata": {},
   "outputs": [],
   "source": []
  },
  {
   "cell_type": "code",
   "execution_count": null,
   "id": "greek-copying",
   "metadata": {},
   "outputs": [],
   "source": []
  }
 ],
 "metadata": {
  "kernelspec": {
   "display_name": "YS_env_farm",
   "language": "python",
   "name": "python3"
  },
  "language_info": {
   "codemirror_mode": {
    "name": "ipython",
    "version": 3
   },
   "file_extension": ".py",
   "mimetype": "text/x-python",
   "name": "python",
   "nbconvert_exporter": "python",
   "pygments_lexer": "ipython3",
   "version": "3.9.4"
  }
 },
 "nbformat": 4,
 "nbformat_minor": 5
}
